{
 "cells": [
  {
   "cell_type": "markdown",
   "metadata": {
    "application/vnd.databricks.v1+cell": {
     "cellMetadata": {},
     "inputWidgets": {},
     "nuid": "2bcc9810-0804-4b74-88c8-524dc4e85231",
     "showTitle": false,
     "title": ""
    }
   },
   "source": [
    "## Create tables"
   ]
  },
  {
   "cell_type": "code",
   "execution_count": 0,
   "metadata": {
    "application/vnd.databricks.v1+cell": {
     "cellMetadata": {
      "byteLimit": 2048000,
      "rowLimit": 10000
     },
     "inputWidgets": {},
     "nuid": "bdf9f055-b261-4a73-9d52-17a1b9b53db7",
     "showTitle": false,
     "title": ""
    }
   },
   "outputs": [
    {
     "output_type": "display_data",
     "data": {
      "text/html": [
       "<style scoped>\n",
       "  .table-result-container {\n",
       "    max-height: 300px;\n",
       "    overflow: auto;\n",
       "  }\n",
       "  table, th, td {\n",
       "    border: 1px solid black;\n",
       "    border-collapse: collapse;\n",
       "  }\n",
       "  th, td {\n",
       "    padding: 5px;\n",
       "  }\n",
       "  th {\n",
       "    text-align: left;\n",
       "  }\n",
       "</style><div class='table-result-container'><table class='table-result'><thead style='background-color: white'><tr><th>fid</th><th>year</th><th>month_id</th><th>day_of_month</th><th>day_of_week_id</th><th>carrier_id</th><th>flight_num</th><th>origin_city</th><th>origin_state</th><th>dest_city</th><th>dest_state</th><th>departure_delay</th><th>taxi_out</th><th>arrival_delay</th><th>canceled</th><th>actual_time</th><th>distance</th></tr></thead><tbody><tr><td>1</td><td>2005</td><td>7</td><td>1</td><td>5</td><td>AA</td><td>1</td><td>New York NY</td><td>New York</td><td>Los Angeles CA</td><td>California</td><td>-4.0</td><td>29.0</td><td>9.0</td><td>0</td><td>360.0</td><td>2475.0</td></tr><tr><td>2</td><td>2005</td><td>7</td><td>2</td><td>6</td><td>AA</td><td>1</td><td>New York NY</td><td>New York</td><td>Los Angeles CA</td><td>California</td><td>-7.0</td><td>13.0</td><td>-10.0</td><td>0</td><td>344.0</td><td>2475.0</td></tr><tr><td>3</td><td>2005</td><td>7</td><td>3</td><td>7</td><td>AA</td><td>1</td><td>New York NY</td><td>New York</td><td>Los Angeles CA</td><td>California</td><td>-1.0</td><td>17.0</td><td>-4.0</td><td>0</td><td>344.0</td><td>2475.0</td></tr><tr><td>4</td><td>2005</td><td>7</td><td>4</td><td>1</td><td>AA</td><td>1</td><td>New York NY</td><td>New York</td><td>Los Angeles CA</td><td>California</td><td>-9.0</td><td>20.0</td><td>17.0</td><td>0</td><td>373.0</td><td>2475.0</td></tr><tr><td>5</td><td>2005</td><td>7</td><td>5</td><td>2</td><td>AA</td><td>1</td><td>New York NY</td><td>New York</td><td>Los Angeles CA</td><td>California</td><td>-6.0</td><td>32.0</td><td>12.0</td><td>0</td><td>365.0</td><td>2475.0</td></tr><tr><td>6</td><td>2005</td><td>7</td><td>6</td><td>3</td><td>AA</td><td>1</td><td>New York NY</td><td>New York</td><td>Los Angeles CA</td><td>California</td><td>-4.0</td><td>34.0</td><td>13.0</td><td>0</td><td>364.0</td><td>2475.0</td></tr><tr><td>7</td><td>2005</td><td>7</td><td>7</td><td>4</td><td>AA</td><td>1</td><td>New York NY</td><td>New York</td><td>Los Angeles CA</td><td>California</td><td>-4.0</td><td>16.0</td><td>-7.0</td><td>0</td><td>344.0</td><td>2475.0</td></tr><tr><td>8</td><td>2005</td><td>7</td><td>8</td><td>5</td><td>AA</td><td>1</td><td>New York NY</td><td>New York</td><td>Los Angeles CA</td><td>California</td><td>25.0</td><td>35.0</td><td>22.0</td><td>0</td><td>344.0</td><td>2475.0</td></tr><tr><td>9</td><td>2005</td><td>7</td><td>9</td><td>6</td><td>AA</td><td>1</td><td>New York NY</td><td>New York</td><td>Los Angeles CA</td><td>California</td><td>-4.0</td><td>30.0</td><td>-5.0</td><td>0</td><td>346.0</td><td>2475.0</td></tr><tr><td>10</td><td>2005</td><td>7</td><td>10</td><td>7</td><td>AA</td><td>1</td><td>New York NY</td><td>New York</td><td>Los Angeles CA</td><td>California</td><td>-4.0</td><td>29.0</td><td>-11.0</td><td>0</td><td>340.0</td><td>2475.0</td></tr><tr><td>11</td><td>2005</td><td>7</td><td>11</td><td>1</td><td>AA</td><td>1</td><td>New York NY</td><td>New York</td><td>Los Angeles CA</td><td>California</td><td>-2.0</td><td>28.0</td><td>-3.0</td><td>0</td><td>346.0</td><td>2475.0</td></tr><tr><td>12</td><td>2005</td><td>7</td><td>12</td><td>2</td><td>AA</td><td>1</td><td>New York NY</td><td>New York</td><td>Los Angeles CA</td><td>California</td><td>-3.0</td><td>25.0</td><td>-20.0</td><td>0</td><td>330.0</td><td>2475.0</td></tr><tr><td>13</td><td>2005</td><td>7</td><td>13</td><td>3</td><td>AA</td><td>1</td><td>New York NY</td><td>New York</td><td>Los Angeles CA</td><td>California</td><td>-6.0</td><td>57.0</td><td>-1.0</td><td>0</td><td>352.0</td><td>2475.0</td></tr><tr><td>14</td><td>2005</td><td>7</td><td>14</td><td>4</td><td>AA</td><td>1</td><td>New York NY</td><td>New York</td><td>Los Angeles CA</td><td>California</td><td>-1.0</td><td>29.0</td><td>-9.0</td><td>0</td><td>339.0</td><td>2475.0</td></tr><tr><td>15</td><td>2005</td><td>7</td><td>15</td><td>5</td><td>AA</td><td>1</td><td>New York NY</td><td>New York</td><td>Los Angeles CA</td><td>California</td><td>-5.0</td><td>29.0</td><td>-18.0</td><td>0</td><td>334.0</td><td>2475.0</td></tr></tbody></table></div>"
      ]
     },
     "metadata": {
      "application/vnd.databricks.v1+output": {
       "addedWidgets": {},
       "aggData": [],
       "aggError": "",
       "aggOverflow": false,
       "aggSchema": [],
       "aggSeriesLimitReached": false,
       "aggType": "",
       "arguments": {},
       "columnCustomDisplayInfos": {},
       "data": [
        [
         1,
         2005,
         7,
         1,
         5,
         "AA",
         1,
         "New York NY",
         "New York",
         "Los Angeles CA",
         "California",
         -4.0,
         29.0,
         9.0,
         0,
         360.0,
         2475.0
        ],
        [
         2,
         2005,
         7,
         2,
         6,
         "AA",
         1,
         "New York NY",
         "New York",
         "Los Angeles CA",
         "California",
         -7.0,
         13.0,
         -10.0,
         0,
         344.0,
         2475.0
        ],
        [
         3,
         2005,
         7,
         3,
         7,
         "AA",
         1,
         "New York NY",
         "New York",
         "Los Angeles CA",
         "California",
         -1.0,
         17.0,
         -4.0,
         0,
         344.0,
         2475.0
        ],
        [
         4,
         2005,
         7,
         4,
         1,
         "AA",
         1,
         "New York NY",
         "New York",
         "Los Angeles CA",
         "California",
         -9.0,
         20.0,
         17.0,
         0,
         373.0,
         2475.0
        ],
        [
         5,
         2005,
         7,
         5,
         2,
         "AA",
         1,
         "New York NY",
         "New York",
         "Los Angeles CA",
         "California",
         -6.0,
         32.0,
         12.0,
         0,
         365.0,
         2475.0
        ],
        [
         6,
         2005,
         7,
         6,
         3,
         "AA",
         1,
         "New York NY",
         "New York",
         "Los Angeles CA",
         "California",
         -4.0,
         34.0,
         13.0,
         0,
         364.0,
         2475.0
        ],
        [
         7,
         2005,
         7,
         7,
         4,
         "AA",
         1,
         "New York NY",
         "New York",
         "Los Angeles CA",
         "California",
         -4.0,
         16.0,
         -7.0,
         0,
         344.0,
         2475.0
        ],
        [
         8,
         2005,
         7,
         8,
         5,
         "AA",
         1,
         "New York NY",
         "New York",
         "Los Angeles CA",
         "California",
         25.0,
         35.0,
         22.0,
         0,
         344.0,
         2475.0
        ],
        [
         9,
         2005,
         7,
         9,
         6,
         "AA",
         1,
         "New York NY",
         "New York",
         "Los Angeles CA",
         "California",
         -4.0,
         30.0,
         -5.0,
         0,
         346.0,
         2475.0
        ],
        [
         10,
         2005,
         7,
         10,
         7,
         "AA",
         1,
         "New York NY",
         "New York",
         "Los Angeles CA",
         "California",
         -4.0,
         29.0,
         -11.0,
         0,
         340.0,
         2475.0
        ],
        [
         11,
         2005,
         7,
         11,
         1,
         "AA",
         1,
         "New York NY",
         "New York",
         "Los Angeles CA",
         "California",
         -2.0,
         28.0,
         -3.0,
         0,
         346.0,
         2475.0
        ],
        [
         12,
         2005,
         7,
         12,
         2,
         "AA",
         1,
         "New York NY",
         "New York",
         "Los Angeles CA",
         "California",
         -3.0,
         25.0,
         -20.0,
         0,
         330.0,
         2475.0
        ],
        [
         13,
         2005,
         7,
         13,
         3,
         "AA",
         1,
         "New York NY",
         "New York",
         "Los Angeles CA",
         "California",
         -6.0,
         57.0,
         -1.0,
         0,
         352.0,
         2475.0
        ],
        [
         14,
         2005,
         7,
         14,
         4,
         "AA",
         1,
         "New York NY",
         "New York",
         "Los Angeles CA",
         "California",
         -1.0,
         29.0,
         -9.0,
         0,
         339.0,
         2475.0
        ],
        [
         15,
         2005,
         7,
         15,
         5,
         "AA",
         1,
         "New York NY",
         "New York",
         "Los Angeles CA",
         "California",
         -5.0,
         29.0,
         -18.0,
         0,
         334.0,
         2475.0
        ]
       ],
       "datasetInfos": [],
       "dbfsResultPath": null,
       "isJsonSchema": true,
       "metadata": {},
       "overflow": false,
       "plotOptions": {
        "customPlotOptions": {},
        "displayType": "table",
        "pivotAggregation": null,
        "pivotColumns": null,
        "xColumns": null,
        "yColumns": null
       },
       "removedWidgets": [],
       "schema": [
        {
         "metadata": "{}",
         "name": "fid",
         "type": "\"long\""
        },
        {
         "metadata": "{}",
         "name": "year",
         "type": "\"long\""
        },
        {
         "metadata": "{}",
         "name": "month_id",
         "type": "\"long\""
        },
        {
         "metadata": "{}",
         "name": "day_of_month",
         "type": "\"long\""
        },
        {
         "metadata": "{}",
         "name": "day_of_week_id",
         "type": "\"long\""
        },
        {
         "metadata": "{}",
         "name": "carrier_id",
         "type": "\"string\""
        },
        {
         "metadata": "{}",
         "name": "flight_num",
         "type": "\"long\""
        },
        {
         "metadata": "{}",
         "name": "origin_city",
         "type": "\"string\""
        },
        {
         "metadata": "{}",
         "name": "origin_state",
         "type": "\"string\""
        },
        {
         "metadata": "{}",
         "name": "dest_city",
         "type": "\"string\""
        },
        {
         "metadata": "{}",
         "name": "dest_state",
         "type": "\"string\""
        },
        {
         "metadata": "{}",
         "name": "departure_delay",
         "type": "\"double\""
        },
        {
         "metadata": "{}",
         "name": "taxi_out",
         "type": "\"double\""
        },
        {
         "metadata": "{}",
         "name": "arrival_delay",
         "type": "\"double\""
        },
        {
         "metadata": "{}",
         "name": "canceled",
         "type": "\"long\""
        },
        {
         "metadata": "{}",
         "name": "actual_time",
         "type": "\"double\""
        },
        {
         "metadata": "{}",
         "name": "distance",
         "type": "\"double\""
        }
       ],
       "type": "table"
      }
     },
     "output_type": "display_data"
    },
    {
     "output_type": "display_data",
     "data": {
      "text/html": [
       "<style scoped>\n",
       "  .table-result-container {\n",
       "    max-height: 300px;\n",
       "    overflow: auto;\n",
       "  }\n",
       "  table, th, td {\n",
       "    border: 1px solid black;\n",
       "    border-collapse: collapse;\n",
       "  }\n",
       "  th, td {\n",
       "    padding: 5px;\n",
       "  }\n",
       "  th {\n",
       "    text-align: left;\n",
       "  }\n",
       "</style><div class='table-result-container'><table class='table-result'><thead style='background-color: white'><tr><th>cid</th><th>name</th></tr></thead><tbody><tr><td>02Q</td><td>Titan Airways</td></tr><tr><td>04Q</td><td>Tradewind Aviation</td></tr><tr><td>05Q</td><td>Comlux Aviation AG</td></tr><tr><td>06Q</td><td>Master Top Linhas Aereas Ltd.</td></tr><tr><td>07Q</td><td>Flair Airlines Ltd.</td></tr><tr><td>09Q</td><td>Swift Air LLC</td></tr><tr><td>0BQ</td><td>DCA</td></tr><tr><td>0CQ</td><td>ACM AIR CHARTER GmbH</td></tr><tr><td>0GQ</td><td>Inter Island Airways d/b/a Inter Island Air</td></tr><tr><td>0HQ</td><td>Polar Airlines de Mexico d/b/a Nova Air</td></tr><tr><td>0J</td><td>JetClub AG</td></tr><tr><td>0JQ</td><td>Vision Airlines</td></tr><tr><td>0LQ</td><td>Metropix UK LLP.</td></tr><tr><td>0MQ</td><td>Multi-Aero Inc. d/b/a Air Choice One</td></tr><tr><td>0OQ</td><td>Open Skies</td></tr></tbody></table></div>"
      ]
     },
     "metadata": {
      "application/vnd.databricks.v1+output": {
       "addedWidgets": {},
       "aggData": [],
       "aggError": "",
       "aggOverflow": false,
       "aggSchema": [],
       "aggSeriesLimitReached": false,
       "aggType": "",
       "arguments": {},
       "columnCustomDisplayInfos": {},
       "data": [
        [
         "02Q",
         "Titan Airways"
        ],
        [
         "04Q",
         "Tradewind Aviation"
        ],
        [
         "05Q",
         "Comlux Aviation AG"
        ],
        [
         "06Q",
         "Master Top Linhas Aereas Ltd."
        ],
        [
         "07Q",
         "Flair Airlines Ltd."
        ],
        [
         "09Q",
         "Swift Air LLC"
        ],
        [
         "0BQ",
         "DCA"
        ],
        [
         "0CQ",
         "ACM AIR CHARTER GmbH"
        ],
        [
         "0GQ",
         "Inter Island Airways d/b/a Inter Island Air"
        ],
        [
         "0HQ",
         "Polar Airlines de Mexico d/b/a Nova Air"
        ],
        [
         "0J",
         "JetClub AG"
        ],
        [
         "0JQ",
         "Vision Airlines"
        ],
        [
         "0LQ",
         "Metropix UK LLP."
        ],
        [
         "0MQ",
         "Multi-Aero Inc. d/b/a Air Choice One"
        ],
        [
         "0OQ",
         "Open Skies"
        ]
       ],
       "datasetInfos": [],
       "dbfsResultPath": null,
       "isJsonSchema": true,
       "metadata": {},
       "overflow": false,
       "plotOptions": {
        "customPlotOptions": {},
        "displayType": "table",
        "pivotAggregation": null,
        "pivotColumns": null,
        "xColumns": null,
        "yColumns": null
       },
       "removedWidgets": [],
       "schema": [
        {
         "metadata": "{}",
         "name": "cid",
         "type": "\"string\""
        },
        {
         "metadata": "{}",
         "name": "name",
         "type": "\"string\""
        }
       ],
       "type": "table"
      }
     },
     "output_type": "display_data"
    },
    {
     "output_type": "display_data",
     "data": {
      "text/html": [
       "<style scoped>\n",
       "  .table-result-container {\n",
       "    max-height: 300px;\n",
       "    overflow: auto;\n",
       "  }\n",
       "  table, th, td {\n",
       "    border: 1px solid black;\n",
       "    border-collapse: collapse;\n",
       "  }\n",
       "  th, td {\n",
       "    padding: 5px;\n",
       "  }\n",
       "  th {\n",
       "    text-align: left;\n",
       "  }\n",
       "</style><div class='table-result-container'><table class='table-result'><thead style='background-color: white'><tr><th>did</th><th>day_of_week</th></tr></thead><tbody><tr><td>1</td><td>Monday</td></tr><tr><td>2</td><td>Tuesday</td></tr><tr><td>3</td><td>Wednesday</td></tr><tr><td>4</td><td>Thursday</td></tr><tr><td>5</td><td>Friday</td></tr><tr><td>6</td><td>Saturday</td></tr><tr><td>7</td><td>Sunday</td></tr><tr><td>9</td><td>Unknown</td></tr></tbody></table></div>"
      ]
     },
     "metadata": {
      "application/vnd.databricks.v1+output": {
       "addedWidgets": {},
       "aggData": [],
       "aggError": "",
       "aggOverflow": false,
       "aggSchema": [],
       "aggSeriesLimitReached": false,
       "aggType": "",
       "arguments": {},
       "columnCustomDisplayInfos": {},
       "data": [
        [
         1,
         "Monday"
        ],
        [
         2,
         "Tuesday"
        ],
        [
         3,
         "Wednesday"
        ],
        [
         4,
         "Thursday"
        ],
        [
         5,
         "Friday"
        ],
        [
         6,
         "Saturday"
        ],
        [
         7,
         "Sunday"
        ],
        [
         9,
         "Unknown"
        ]
       ],
       "datasetInfos": [],
       "dbfsResultPath": null,
       "isJsonSchema": true,
       "metadata": {},
       "overflow": false,
       "plotOptions": {
        "customPlotOptions": {},
        "displayType": "table",
        "pivotAggregation": null,
        "pivotColumns": null,
        "xColumns": null,
        "yColumns": null
       },
       "removedWidgets": [],
       "schema": [
        {
         "metadata": "{}",
         "name": "did",
         "type": "\"long\""
        },
        {
         "metadata": "{}",
         "name": "day_of_week",
         "type": "\"string\""
        }
       ],
       "type": "table"
      }
     },
     "output_type": "display_data"
    },
    {
     "output_type": "display_data",
     "data": {
      "text/html": [
       "<style scoped>\n",
       "  .table-result-container {\n",
       "    max-height: 300px;\n",
       "    overflow: auto;\n",
       "  }\n",
       "  table, th, td {\n",
       "    border: 1px solid black;\n",
       "    border-collapse: collapse;\n",
       "  }\n",
       "  th, td {\n",
       "    padding: 5px;\n",
       "  }\n",
       "  th {\n",
       "    text-align: left;\n",
       "  }\n",
       "</style><div class='table-result-container'><table class='table-result'><thead style='background-color: white'><tr><th>mid</th><th>month</th></tr></thead><tbody><tr><td>1</td><td>January</td></tr><tr><td>2</td><td>February</td></tr><tr><td>3</td><td>March</td></tr><tr><td>4</td><td>April</td></tr><tr><td>5</td><td>May</td></tr><tr><td>6</td><td>June</td></tr><tr><td>7</td><td>July</td></tr><tr><td>8</td><td>August</td></tr><tr><td>9</td><td>September</td></tr><tr><td>10</td><td>October</td></tr><tr><td>11</td><td>November</td></tr><tr><td>12</td><td>December</td></tr></tbody></table></div>"
      ]
     },
     "metadata": {
      "application/vnd.databricks.v1+output": {
       "addedWidgets": {},
       "aggData": [],
       "aggError": "",
       "aggOverflow": false,
       "aggSchema": [],
       "aggSeriesLimitReached": false,
       "aggType": "",
       "arguments": {},
       "columnCustomDisplayInfos": {},
       "data": [
        [
         1,
         "January"
        ],
        [
         2,
         "February"
        ],
        [
         3,
         "March"
        ],
        [
         4,
         "April"
        ],
        [
         5,
         "May"
        ],
        [
         6,
         "June"
        ],
        [
         7,
         "July"
        ],
        [
         8,
         "August"
        ],
        [
         9,
         "September"
        ],
        [
         10,
         "October"
        ],
        [
         11,
         "November"
        ],
        [
         12,
         "December"
        ]
       ],
       "datasetInfos": [],
       "dbfsResultPath": null,
       "isJsonSchema": true,
       "metadata": {},
       "overflow": false,
       "plotOptions": {
        "customPlotOptions": {},
        "displayType": "table",
        "pivotAggregation": null,
        "pivotColumns": null,
        "xColumns": null,
        "yColumns": null
       },
       "removedWidgets": [],
       "schema": [
        {
         "metadata": "{}",
         "name": "mid",
         "type": "\"long\""
        },
        {
         "metadata": "{}",
         "name": "month",
         "type": "\"string\""
        }
       ],
       "type": "table"
      }
     },
     "output_type": "display_data"
    }
   ],
   "source": [
    "# File location and type\n",
    "flights_file_location = \"/FileStore/tables/flights_small.csv\"\n",
    "carriers_file_location = \"/FileStore/tables/carriers.csv\"\n",
    "weekdays_file_locaiton = \"/FileStore/tables/weekdays.csv\"\n",
    "months_file_location = \"/FileStore/tables/months.csv\"\n",
    "file_type = \"csv\"\n",
    "\n",
    "# CSV options\n",
    "infer_schema = \"true\"\n",
    "first_row_is_header = \"false\"  # Treat all rows as data, including the first one\n",
    "delimiter = \",\"\n",
    "\n",
    "# Read the CSV file without using the first row as header\n",
    "flights_df = (\n",
    "    spark.read.format(file_type)\n",
    "    .option(\"inferSchema\", infer_schema)\n",
    "    .option(\"header\", first_row_is_header)\n",
    "    .option(\"sep\", delimiter)\n",
    "    .load(flights_file_location)\n",
    ")\n",
    "\n",
    "carriers_df = (\n",
    "    spark.read.format(file_type)\n",
    "    .option(\"inferSchema\", infer_schema)\n",
    "    .option(\"header\", first_row_is_header)\n",
    "    .option(\"sep\", delimiter)\n",
    "    .load(carriers_file_location)\n",
    ")\n",
    "\n",
    "weekdays_df = (\n",
    "    spark.read.format(file_type)\n",
    "    .option(\"inferSchema\", infer_schema)\n",
    "    .option(\"header\", first_row_is_header)\n",
    "    .option(\"sep\", delimiter)\n",
    "    .load(weekdays_file_locaiton)\n",
    ")\n",
    "\n",
    "months_df = (\n",
    "    spark.read.format(file_type)\n",
    "    .option(\"inferSchema\", infer_schema)\n",
    "    .option(\"header\", first_row_is_header)\n",
    "    .option(\"sep\", delimiter)\n",
    "    .load(months_file_location)\n",
    ")\n",
    "\n",
    "# Define the column names you want to apply\n",
    "flights_header = [\n",
    "    \"fid\", \"year\", \"month_id\", \"day_of_month\", \"day_of_week_id\",\n",
    "    \"carrier_id\", \"flight_num\", \"origin_city\", \"origin_state\",\n",
    "    \"dest_city\", \"dest_state\", \"departure_delay\", \"taxi_out\",\n",
    "    \"arrival_delay\", \"canceled\", \"actual_time\", \"distance\"\n",
    "]\n",
    "carriers_header = [\"cid\", \"name\"]\n",
    "weekdays_header = [\"did\", \"day_of_week\"]  \n",
    "months_header = [\"mid\", \"month\"]\n",
    "\n",
    "\n",
    "# Rename the DataFrame columns\n",
    "flights_df = flights_df.toDF(*flights_header)\n",
    "carriers_df = carriers_df.toDF(*carriers_header)\n",
    "weekdays_df = weekdays_df.toDF(*weekdays_header)\n",
    "months_df = months_df.toDF(*months_header)\n",
    "\n",
    "# Display the DataFrame with the renamed columns\n",
    "display(flights_df.head(15))\n",
    "display(carriers_df.head(15))\n",
    "display(weekdays_df.head(15))\n",
    "display(months_df.head(15))\n"
   ]
  },
  {
   "cell_type": "code",
   "execution_count": 0,
   "metadata": {
    "application/vnd.databricks.v1+cell": {
     "cellMetadata": {
      "byteLimit": 2048000,
      "rowLimit": 10000
     },
     "inputWidgets": {},
     "nuid": "9b59c1d4-ee51-4594-9ac5-5cb88de5d16e",
     "showTitle": false,
     "title": ""
    }
   },
   "outputs": [],
   "source": [
    "# Create a view or table\n",
    "temp_table_1 = \"flights\"\n",
    "temp_table_2 = \"carriers\"\n",
    "temp_table_3 = \"weekdays\"\n",
    "temp_table_4 = \"months\"\n",
    "\n",
    "flights_df.createOrReplaceTempView(temp_table_1)\n",
    "carriers_df.createOrReplaceTempView(temp_table_2)\n",
    "weekdays_df.createOrReplaceTempView(temp_table_3)\n",
    "months_df.createOrReplaceTempView(temp_table_4)"
   ]
  },
  {
   "cell_type": "markdown",
   "metadata": {
    "application/vnd.databricks.v1+cell": {
     "cellMetadata": {},
     "inputWidgets": {},
     "nuid": "59ddbd35-951a-48e2-948d-a67c65ba0e0b",
     "showTitle": false,
     "title": ""
    }
   },
   "source": [
    "##Question 1\n",
    "Find the distinct flight numbers of all flights from Seattle to Boston by Alaska Airlines Inc. on Mondays. Also notice that, in the database, the city names include the state. So Seattle appears as Seattle WA. [3 rows] "
   ]
  },
  {
   "cell_type": "code",
   "execution_count": 0,
   "metadata": {
    "application/vnd.databricks.v1+cell": {
     "cellMetadata": {
      "byteLimit": 2048000,
      "implicitDf": true,
      "rowLimit": 10000
     },
     "inputWidgets": {},
     "nuid": "3c65ba45-8acb-4df1-9b0e-7dfd478ba682",
     "showTitle": false,
     "title": ""
    }
   },
   "outputs": [
    {
     "output_type": "display_data",
     "data": {
      "text/html": [
       "<style scoped>\n",
       "  .table-result-container {\n",
       "    max-height: 300px;\n",
       "    overflow: auto;\n",
       "  }\n",
       "  table, th, td {\n",
       "    border: 1px solid black;\n",
       "    border-collapse: collapse;\n",
       "  }\n",
       "  th, td {\n",
       "    padding: 5px;\n",
       "  }\n",
       "  th {\n",
       "    text-align: left;\n",
       "  }\n",
       "</style><div class='table-result-container'><table class='table-result'><thead style='background-color: white'><tr><th>flight_num</th></tr></thead><tbody><tr><td>12</td></tr><tr><td>24</td></tr><tr><td>734</td></tr></tbody></table></div>"
      ]
     },
     "metadata": {
      "application/vnd.databricks.v1+output": {
       "addedWidgets": {},
       "aggData": [],
       "aggError": "",
       "aggOverflow": false,
       "aggSchema": [],
       "aggSeriesLimitReached": false,
       "aggType": "",
       "arguments": {},
       "columnCustomDisplayInfos": {},
       "data": [
        [
         12
        ],
        [
         24
        ],
        [
         734
        ]
       ],
       "datasetInfos": [],
       "dbfsResultPath": null,
       "isJsonSchema": true,
       "metadata": {},
       "overflow": false,
       "plotOptions": {
        "customPlotOptions": {},
        "displayType": "table",
        "pivotAggregation": null,
        "pivotColumns": null,
        "xColumns": null,
        "yColumns": null
       },
       "removedWidgets": [],
       "schema": [
        {
         "metadata": "{}",
         "name": "flight_num",
         "type": "\"integer\""
        }
       ],
       "type": "table"
      }
     },
     "output_type": "display_data"
    }
   ],
   "source": [
    "%sql\n",
    "SELECT DISTINCT F.flight_num AS flight_num\n",
    "FROM flights F\n",
    "JOIN carriers C ON F.carrier_id = C.cid\n",
    "JOIN weekdays W ON F.day_of_week_id = W.did\n",
    "WHERE F.origin_city = 'Seattle WA'\n",
    "  AND F.dest_city = 'Boston MA'\n",
    "  AND C.name = 'Alaska Airlines Inc.'\n",
    "  AND W.day_of_week = 'Monday';\n"
   ]
  },
  {
   "cell_type": "markdown",
   "metadata": {
    "application/vnd.databricks.v1+cell": {
     "cellMetadata": {},
     "inputWidgets": {},
     "nuid": "6838ed94-5e02-496a-ab87-77dea77bb3fa",
     "showTitle": false,
     "title": ""
    }
   },
   "source": [
    "## Question 2\n",
    "Find the day of the week with the longest average arrival delay. Return the name of the day and the average delay. [1 row] "
   ]
  },
  {
   "cell_type": "code",
   "execution_count": 0,
   "metadata": {
    "application/vnd.databricks.v1+cell": {
     "cellMetadata": {
      "byteLimit": 2048000,
      "implicitDf": true,
      "rowLimit": 10000
     },
     "inputWidgets": {},
     "nuid": "be20a906-4fdf-400d-b4df-5b29332179ec",
     "showTitle": false,
     "title": ""
    }
   },
   "outputs": [
    {
     "output_type": "display_data",
     "data": {
      "text/html": [
       "<style scoped>\n",
       "  .table-result-container {\n",
       "    max-height: 300px;\n",
       "    overflow: auto;\n",
       "  }\n",
       "  table, th, td {\n",
       "    border: 1px solid black;\n",
       "    border-collapse: collapse;\n",
       "  }\n",
       "  th, td {\n",
       "    padding: 5px;\n",
       "  }\n",
       "  th {\n",
       "    text-align: left;\n",
       "  }\n",
       "</style><div class='table-result-container'><table class='table-result'><thead style='background-color: white'><tr><th>day_of_week</th><th>delay</th></tr></thead><tbody><tr><td>Wednesday</td><td>13.342771666868126</td></tr></tbody></table></div>"
      ]
     },
     "metadata": {
      "application/vnd.databricks.v1+output": {
       "addedWidgets": {},
       "aggData": [],
       "aggError": "",
       "aggOverflow": false,
       "aggSchema": [],
       "aggSeriesLimitReached": false,
       "aggType": "",
       "arguments": {},
       "columnCustomDisplayInfos": {},
       "data": [
        [
         "Wednesday",
         13.342771666868126
        ]
       ],
       "datasetInfos": [],
       "dbfsResultPath": null,
       "isJsonSchema": true,
       "metadata": {},
       "overflow": false,
       "plotOptions": {
        "customPlotOptions": {},
        "displayType": "table",
        "pivotAggregation": null,
        "pivotColumns": null,
        "xColumns": null,
        "yColumns": null
       },
       "removedWidgets": [],
       "schema": [
        {
         "metadata": "{}",
         "name": "day_of_week",
         "type": "\"string\""
        },
        {
         "metadata": "{}",
         "name": "delay",
         "type": "\"double\""
        }
       ],
       "type": "table"
      }
     },
     "output_type": "display_data"
    }
   ],
   "source": [
    "%sql\n",
    "SELECT W.day_of_week, AVG(F.arrival_delay) AS delay\n",
    "FROM flights AS F, weekdays AS W\n",
    "WHERE F.day_of_week_id = W.did\n",
    "GROUP BY W.day_of_week\n",
    "ORDER BY AVG(F.arrival_delay) DESC\n",
    "LIMIT 1;"
   ]
  },
  {
   "cell_type": "markdown",
   "metadata": {
    "application/vnd.databricks.v1+cell": {
     "cellMetadata": {},
     "inputWidgets": {},
     "nuid": "539453ea-dad4-480f-bfc9-edafbab25ecc",
     "showTitle": false,
     "title": ""
    }
   },
   "source": [
    "##Question 3\n",
    "Find the names of all airlines that ever flew more than 1000 flights in one day. Return only the names. Do not return any duplicates. [11 rows] "
   ]
  },
  {
   "cell_type": "code",
   "execution_count": 0,
   "metadata": {
    "application/vnd.databricks.v1+cell": {
     "cellMetadata": {
      "byteLimit": 2048000,
      "implicitDf": true,
      "rowLimit": 10000
     },
     "inputWidgets": {},
     "nuid": "550a6d68-7af8-4040-b91c-b0e4027a30f9",
     "showTitle": false,
     "title": ""
    }
   },
   "outputs": [
    {
     "output_type": "display_data",
     "data": {
      "text/html": [
       "<style scoped>\n",
       "  .table-result-container {\n",
       "    max-height: 300px;\n",
       "    overflow: auto;\n",
       "  }\n",
       "  table, th, td {\n",
       "    border: 1px solid black;\n",
       "    border-collapse: collapse;\n",
       "  }\n",
       "  th, td {\n",
       "    padding: 5px;\n",
       "  }\n",
       "  th {\n",
       "    text-align: left;\n",
       "  }\n",
       "</style><div class='table-result-container'><table class='table-result'><thead style='background-color: white'><tr><th>name</th></tr></thead><tbody><tr><td>SkyWest Airlines Inc.</td></tr><tr><td>United Air Lines Inc.</td></tr><tr><td>Comair Inc.</td></tr><tr><td>ExpressJet Airlines Inc. (1)</td></tr><tr><td>Southwest Airlines Co.</td></tr><tr><td>ExpressJet Airlines Inc.</td></tr><tr><td>Northwest Airlines Inc.</td></tr><tr><td>US Airways Inc.</td></tr><tr><td>Envoy Air</td></tr><tr><td>Delta Air Lines Inc.</td></tr><tr><td>American Airlines Inc.</td></tr></tbody></table></div>"
      ]
     },
     "metadata": {
      "application/vnd.databricks.v1+output": {
       "addedWidgets": {},
       "aggData": [],
       "aggError": "",
       "aggOverflow": false,
       "aggSchema": [],
       "aggSeriesLimitReached": false,
       "aggType": "",
       "arguments": {},
       "columnCustomDisplayInfos": {},
       "data": [
        [
         "SkyWest Airlines Inc."
        ],
        [
         "United Air Lines Inc."
        ],
        [
         "Comair Inc."
        ],
        [
         "ExpressJet Airlines Inc. (1)"
        ],
        [
         "Southwest Airlines Co."
        ],
        [
         "ExpressJet Airlines Inc."
        ],
        [
         "Northwest Airlines Inc."
        ],
        [
         "US Airways Inc."
        ],
        [
         "Envoy Air"
        ],
        [
         "Delta Air Lines Inc."
        ],
        [
         "American Airlines Inc."
        ]
       ],
       "datasetInfos": [],
       "dbfsResultPath": null,
       "isJsonSchema": true,
       "metadata": {},
       "overflow": false,
       "plotOptions": {
        "customPlotOptions": {},
        "displayType": "table",
        "pivotAggregation": null,
        "pivotColumns": null,
        "xColumns": null,
        "yColumns": null
       },
       "removedWidgets": [],
       "schema": [
        {
         "metadata": "{}",
         "name": "name",
         "type": "\"string\""
        }
       ],
       "type": "table"
      }
     },
     "output_type": "display_data"
    }
   ],
   "source": [
    "%sql\n",
    "SELECT DISTINCT C.name\n",
    "FROM flights F\n",
    "JOIN Months M\n",
    "ON M.mid = F.month_id\n",
    "JOIN Carriers C \n",
    "ON C.cid = F.carrier_id\n",
    "GROUP BY F.day_of_month, F.year, M.month, C.name\n",
    "HAVING COUNT(*) > 1000;\n"
   ]
  },
  {
   "cell_type": "markdown",
   "metadata": {
    "application/vnd.databricks.v1+cell": {
     "cellMetadata": {},
     "inputWidgets": {},
     "nuid": "57f69f73-e580-414b-a8a4-347d25ca2a3b",
     "showTitle": false,
     "title": ""
    }
   },
   "source": [
    "## Question 4\n",
    "Find all airlines that had more than 0.5 percent of their flights out of Seattle be canceled. Return the name of the airline and the percentage of canceled flight out of Seattle. Order the results by the percentage of canceled flights in ascending order. [6 rows] "
   ]
  },
  {
   "cell_type": "code",
   "execution_count": 0,
   "metadata": {
    "application/vnd.databricks.v1+cell": {
     "cellMetadata": {
      "byteLimit": 2048000,
      "implicitDf": true,
      "rowLimit": 10000
     },
     "inputWidgets": {},
     "nuid": "064a4dd1-0de1-44cc-99d2-608233496175",
     "showTitle": false,
     "title": ""
    }
   },
   "outputs": [
    {
     "output_type": "display_data",
     "data": {
      "text/html": [
       "<style scoped>\n",
       "  .table-result-container {\n",
       "    max-height: 300px;\n",
       "    overflow: auto;\n",
       "  }\n",
       "  table, th, td {\n",
       "    border: 1px solid black;\n",
       "    border-collapse: collapse;\n",
       "  }\n",
       "  th, td {\n",
       "    padding: 5px;\n",
       "  }\n",
       "  th {\n",
       "    text-align: left;\n",
       "  }\n",
       "</style><div class='table-result-container'><table class='table-result'><thead style='background-color: white'><tr><th>name</th><th>percent</th></tr></thead><tbody><tr><td>JetBlue Airways</td><td>0.010025062656641603</td></tr><tr><td>Frontier Airlines Inc.</td><td>0.008403361344537815</td></tr><tr><td>ExpressJet Airlines Inc.</td><td>0.03225806451612903</td></tr><tr><td>Northwest Airlines Inc.</td><td>0.014336917562724014</td></tr><tr><td>SkyWest Airlines Inc.</td><td>0.007282913165266107</td></tr><tr><td>United Air Lines Inc.</td><td>0.009837678307919331</td></tr></tbody></table></div>"
      ]
     },
     "metadata": {
      "application/vnd.databricks.v1+output": {
       "addedWidgets": {},
       "aggData": [],
       "aggError": "",
       "aggOverflow": false,
       "aggSchema": [],
       "aggSeriesLimitReached": false,
       "aggType": "",
       "arguments": {},
       "columnCustomDisplayInfos": {},
       "data": [
        [
         "JetBlue Airways",
         0.010025062656641603
        ],
        [
         "Frontier Airlines Inc.",
         0.008403361344537815
        ],
        [
         "ExpressJet Airlines Inc.",
         0.03225806451612903
        ],
        [
         "Northwest Airlines Inc.",
         0.014336917562724014
        ],
        [
         "SkyWest Airlines Inc.",
         0.007282913165266107
        ],
        [
         "United Air Lines Inc.",
         0.009837678307919331
        ]
       ],
       "datasetInfos": [],
       "dbfsResultPath": null,
       "isJsonSchema": true,
       "metadata": {},
       "overflow": false,
       "plotOptions": {
        "customPlotOptions": {},
        "displayType": "table",
        "pivotAggregation": null,
        "pivotColumns": null,
        "xColumns": null,
        "yColumns": null
       },
       "removedWidgets": [],
       "schema": [
        {
         "metadata": "{}",
         "name": "name",
         "type": "\"string\""
        },
        {
         "metadata": "{}",
         "name": "percent",
         "type": "\"double\""
        }
       ],
       "type": "table"
      }
     },
     "output_type": "display_data"
    }
   ],
   "source": [
    "%sql\n",
    "SELECT C.name, AVG(F.canceled) AS percent\n",
    "FROM flights AS F, carriers AS C\n",
    "WHERE F.carrier_id = C.cid\n",
    "AND F.origin_city = \"Seattle WA\"\n",
    "GROUP BY C.name\n",
    "HAVING AVG(F.canceled) > 0.005"
   ]
  }
 ],
 "metadata": {
  "application/vnd.databricks.v1+notebook": {
   "dashboards": [],
   "environmentMetadata": null,
   "language": "python",
   "notebookMetadata": {
    "mostRecentlyExecutedCommandWithImplicitDF": {
     "commandId": 3343445740288375,
     "dataframes": [
      "_sqldf"
     ]
    },
    "pythonIndentUnit": 4
   },
   "notebookName": "IoT_Assignment2",
   "widgets": {}
  }
 },
 "nbformat": 4,
 "nbformat_minor": 0
}
